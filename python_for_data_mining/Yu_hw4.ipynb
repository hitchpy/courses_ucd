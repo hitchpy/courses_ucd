{
 "metadata": {
  "name": "",
  "signature": "sha256:9759ce47e6f3af3cf794e92ba2583f28c3f60f9a6c56044c3821f70cba107078"
 },
 "nbformat": 3,
 "nbformat_minor": 0,
 "worksheets": [
  {
   "cells": [
    {
     "cell_type": "markdown",
     "metadata": {},
     "source": [
      "# Python for data mining, Homework 4\n",
      "## Yu Pei"
     ]
    },
    {
     "cell_type": "code",
     "collapsed": false,
     "input": [
      "import pandas as pd\n",
      "import sqlalchemy as sa\n",
      "import requests\n",
      "import matplotlib.pyplot as plt"
     ],
     "language": "python",
     "metadata": {},
     "outputs": [],
     "prompt_number": 1
    },
    {
     "cell_type": "code",
     "collapsed": false,
     "input": [
      "%matplotlib inline"
     ],
     "language": "python",
     "metadata": {},
     "outputs": [],
     "prompt_number": 26
    },
    {
     "cell_type": "code",
     "collapsed": false,
     "input": [
      "## Task one \n",
      "## Download the tables then run the convert.py to create the Database\n",
      "engine = sa.create_engine('sqlite:///supermarket.sqlite')\n",
      "\n",
      "meta = sa.MetaData(engine, reflect = True)\n",
      "meta.tables"
     ],
     "language": "python",
     "metadata": {},
     "outputs": [
      {
       "metadata": {},
       "output_type": "pyout",
       "prompt_number": 28,
       "text": [
        "immutabledict({u'supermarket_prices': Table('supermarket_prices', MetaData(bind=Engine(sqlite:///supermarket.sqlite)), Column('product_id', BIGINT(), table=<supermarket_prices>), Column('price', FLOAT(), table=<supermarket_prices>), schema=None), u'supermarket_distances': Table('supermarket_distances', MetaData(bind=Engine(sqlite:///supermarket.sqlite)), Column('customer_id', BIGINT(), table=<supermarket_distances>), Column('shop_id', BIGINT(), table=<supermarket_distances>), Column('distance', FLOAT(), table=<supermarket_distances>), schema=None), u'supermarket_purchases': Table('supermarket_purchases', MetaData(bind=Engine(sqlite:///supermarket.sqlite)), Column('customer_id', BIGINT(), table=<supermarket_purchases>), Column('product_id', BIGINT(), table=<supermarket_purchases>), Column('shop_id', BIGINT(), table=<supermarket_purchases>), Column('quantity', BIGINT(), table=<supermarket_purchases>), schema=None)})"
       ]
      }
     ],
     "prompt_number": 28
    },
    {
     "cell_type": "code",
     "collapsed": false,
     "input": [
      "## Based on the meta, solution would be joining price with\n",
      "## purchases using product_id, group by customer id. Done with SQL. \n",
      "## Should explore possibility with sqlalchemy more.\n",
      "q = 'SELECT customer_id, SUM(price * quantity) as total_spend FROM \\\n",
      "supermarket_purchases LEFT JOIN supermarket_prices ON \\\n",
      " supermarket_prices.product_id = supermarket_purchases.product_id \\\n",
      " GROUP BY customer_id ;'\n",
      "dat = pd.read_sql(q, engine)"
     ],
     "language": "python",
     "metadata": {},
     "outputs": [],
     "prompt_number": 4
    },
    {
     "cell_type": "markdown",
     "metadata": {},
     "source": [
      "The total spend for each customer is as follows."
     ]
    },
    {
     "cell_type": "code",
     "collapsed": false,
     "input": [
      "dat.head()"
     ],
     "language": "python",
     "metadata": {},
     "outputs": [
      {
       "html": [
        "<div style=\"max-height:1000px;max-width:1500px;overflow:auto;\">\n",
        "<table border=\"1\" class=\"dataframe\">\n",
        "  <thead>\n",
        "    <tr style=\"text-align: right;\">\n",
        "      <th></th>\n",
        "      <th>customer_id</th>\n",
        "      <th>total_spend</th>\n",
        "    </tr>\n",
        "  </thead>\n",
        "  <tbody>\n",
        "    <tr>\n",
        "      <th>0</th>\n",
        "      <td> 1</td>\n",
        "      <td> 7551.701</td>\n",
        "    </tr>\n",
        "    <tr>\n",
        "      <th>1</th>\n",
        "      <td> 2</td>\n",
        "      <td> 7820.219</td>\n",
        "    </tr>\n",
        "    <tr>\n",
        "      <th>2</th>\n",
        "      <td> 3</td>\n",
        "      <td> 1788.613</td>\n",
        "    </tr>\n",
        "    <tr>\n",
        "      <th>3</th>\n",
        "      <td> 4</td>\n",
        "      <td> 1679.520</td>\n",
        "    </tr>\n",
        "    <tr>\n",
        "      <th>4</th>\n",
        "      <td> 5</td>\n",
        "      <td>   17.922</td>\n",
        "    </tr>\n",
        "  </tbody>\n",
        "</table>\n",
        "</div>"
       ],
       "metadata": {},
       "output_type": "pyout",
       "prompt_number": 7,
       "text": [
        "   customer_id  total_spend\n",
        "0            1     7551.701\n",
        "1            2     7820.219\n",
        "2            3     1788.613\n",
        "3            4     1679.520\n",
        "4            5       17.922"
       ]
      }
     ],
     "prompt_number": 7
    },
    {
     "cell_type": "code",
     "collapsed": false,
     "input": [
      "q2 = 'SELECT customer_id, SUM(quantity) as total_quantity FROM \\\n",
      "supermarket_purchases GROUP BY customer_id ;'\n",
      "r = requests.get('http://openexchangerates.org/api/latest.json?app_id=YOUR API HERE')\n",
      "#rate = r.json()['rate']\n",
      "r"
     ],
     "language": "python",
     "metadata": {},
     "outputs": [
      {
       "metadata": {},
       "output_type": "pyout",
       "prompt_number": 21,
       "text": [
        "<Response [200]>"
       ]
      }
     ],
     "prompt_number": 21
    },
    {
     "cell_type": "code",
     "collapsed": false,
     "input": [
      "r.json()['rates']['EUR']"
     ],
     "language": "python",
     "metadata": {},
     "outputs": [
      {
       "metadata": {},
       "output_type": "pyout",
       "prompt_number": 23,
       "text": [
        "0.879882"
       ]
      }
     ],
     "prompt_number": 23
    },
    {
     "cell_type": "markdown",
     "metadata": {},
     "source": [
      "Now we just need to Devide each of the total_spend with the exchange rate to convert into USD."
     ]
    },
    {
     "cell_type": "code",
     "collapsed": false,
     "input": [
      "result = dat.sort('total_spend', ascending = False)\n",
      "result.loc[:,'total_spend'] = result.loc[:, 'total_spend'] /0.87988\n",
      "result.hist(column = 'total_spend', bins = 100)"
     ],
     "language": "python",
     "metadata": {},
     "outputs": [
      {
       "metadata": {},
       "output_type": "pyout",
       "prompt_number": 27,
       "text": [
        "array([[<matplotlib.axes._subplots.AxesSubplot object at 0x108252810>]], dtype=object)"
       ]
      },
      {
       "metadata": {},
       "output_type": "display_data",
       "png": "[encoded data removed]",
       "text": [
        "<matplotlib.figure.Figure at 0x108252250>"
       ]
      }
     ],
     "prompt_number": 27
    },
    {
     "cell_type": "code",
     "collapsed": false,
     "input": [
      "## Spend the most customer\n",
      "result.head()"
     ],
     "language": "python",
     "metadata": {},
     "outputs": [
      {
       "html": [
        "<div style=\"max-height:1000px;max-width:1500px;overflow:auto;\">\n",
        "<table border=\"1\" class=\"dataframe\">\n",
        "  <thead>\n",
        "    <tr style=\"text-align: right;\">\n",
        "      <th></th>\n",
        "      <th>customer_id</th>\n",
        "      <th>total_spend</th>\n",
        "    </tr>\n",
        "  </thead>\n",
        "  <tbody>\n",
        "    <tr>\n",
        "      <th>44749</th>\n",
        "      <td> 44751</td>\n",
        "      <td> 58631.466791</td>\n",
        "    </tr>\n",
        "    <tr>\n",
        "      <th>5426 </th>\n",
        "      <td>  5427</td>\n",
        "      <td> 52004.106242</td>\n",
        "    </tr>\n",
        "    <tr>\n",
        "      <th>1367 </th>\n",
        "      <td>  1368</td>\n",
        "      <td> 50518.330909</td>\n",
        "    </tr>\n",
        "    <tr>\n",
        "      <th>33211</th>\n",
        "      <td> 33212</td>\n",
        "      <td> 48764.739510</td>\n",
        "    </tr>\n",
        "    <tr>\n",
        "      <th>33683</th>\n",
        "      <td> 33684</td>\n",
        "      <td> 48582.487385</td>\n",
        "    </tr>\n",
        "  </tbody>\n",
        "</table>\n",
        "</div>"
       ],
       "metadata": {},
       "output_type": "pyout",
       "prompt_number": 29,
       "text": [
        "       customer_id   total_spend\n",
        "44749        44751  58631.466791\n",
        "5426          5427  52004.106242\n",
        "1367          1368  50518.330909\n",
        "33211        33212  48764.739510\n",
        "33683        33684  48582.487385"
       ]
      }
     ],
     "prompt_number": 29
    },
    {
     "cell_type": "code",
     "collapsed": false,
     "input": [
      "## Buy the most quantity \n",
      "q2 = 'SELECT customer_id, SUM(quantity) as total_quantity FROM \\\n",
      "supermarket_purchases GROUP BY customer_id ;'\n"
     ],
     "language": "python",
     "metadata": {},
     "outputs": []
    },
    {
     "cell_type": "code",
     "collapsed": false,
     "input": [
      "pd.read_sql(q2, engine).head()"
     ],
     "language": "python",
     "metadata": {},
     "outputs": [
      {
       "html": [
        "<div style=\"max-height:1000px;max-width:1500px;overflow:auto;\">\n",
        "<table border=\"1\" class=\"dataframe\">\n",
        "  <thead>\n",
        "    <tr style=\"text-align: right;\">\n",
        "      <th></th>\n",
        "      <th>customer_id</th>\n",
        "      <th>total_quantity</th>\n",
        "    </tr>\n",
        "  </thead>\n",
        "  <tbody>\n",
        "    <tr>\n",
        "      <th>0</th>\n",
        "      <td> 1</td>\n",
        "      <td> 3090</td>\n",
        "    </tr>\n",
        "    <tr>\n",
        "      <th>1</th>\n",
        "      <td> 2</td>\n",
        "      <td> 4508</td>\n",
        "    </tr>\n",
        "    <tr>\n",
        "      <th>2</th>\n",
        "      <td> 3</td>\n",
        "      <td>  814</td>\n",
        "    </tr>\n",
        "    <tr>\n",
        "      <th>3</th>\n",
        "      <td> 4</td>\n",
        "      <td>  648</td>\n",
        "    </tr>\n",
        "    <tr>\n",
        "      <th>4</th>\n",
        "      <td> 5</td>\n",
        "      <td>   13</td>\n",
        "    </tr>\n",
        "  </tbody>\n",
        "</table>\n",
        "</div>"
       ],
       "metadata": {},
       "output_type": "pyout",
       "prompt_number": 30,
       "text": [
        "   customer_id  total_quantity\n",
        "0            1            3090\n",
        "1            2            4508\n",
        "2            3             814\n",
        "3            4             648\n",
        "4            5              13"
       ]
      }
     ],
     "prompt_number": 30
    },
    {
     "cell_type": "markdown",
     "metadata": {},
     "source": [
      "## Fitting the total spend data with gamma distribution"
     ]
    },
    {
     "cell_type": "code",
     "collapsed": false,
     "input": [
      "from scipy import stats\n",
      "x = result.total_spend\n",
      "res = stats.gamma.fit(x)\n",
      "stats.probplot(x, res, dist = 'gamma', fit =False, plot = plt)"
     ],
     "language": "python",
     "metadata": {},
     "outputs": [
      {
       "metadata": {},
       "output_type": "pyout",
       "prompt_number": 31,
       "text": [
        "(array([  2.41060987e-01,   2.41414930e-01,   2.41919209e-01, ...,\n",
        "          6.03575581e+04,   6.34219583e+04,   6.92600626e+04]),\n",
        " array([  2.40941947e-01,   2.40941947e-01,   3.79597218e-01, ...,\n",
        "          5.05183309e+04,   5.20041062e+04,   5.86314668e+04]))"
       ]
      },
      {
       "metadata": {},
       "output_type": "display_data",
       "png": "[encoded data removed]",
       "text": [
        "<matplotlib.figure.Figure at 0x10858df10>"
       ]
      }
     ],
     "prompt_number": 31
    },
    {
     "cell_type": "markdown",
     "metadata": {},
     "source": [
      "Stats' fit function can do a MLE fit to the data, and will return the estimated parameters. And we can use KS test to assess the fit, which shows that the fitting is not very good( very low P value) But I have tried a few other distributions and they all didn't show good result."
     ]
    },
    {
     "cell_type": "code",
     "collapsed": false,
     "input": [
      "stats.kstest(x, 'gamma', res) # data, test against gamma, with para res"
     ],
     "language": "python",
     "metadata": {},
     "outputs": [
      {
       "metadata": {},
       "output_type": "pyout",
       "prompt_number": 33,
       "text": [
        "(0.039518548724813307, 2.6095796431472637e-82)"
       ]
      }
     ],
     "prompt_number": 33
    },
    {
     "cell_type": "markdown",
     "metadata": {},
     "source": [
      "## Task Three -- Customer behaviors based on distance"
     ]
    },
    {
     "cell_type": "code",
     "collapsed": false,
     "input": [
      "q3 = 'SELECT * FROM supermarket_distances WHERE distance< 2500;'\n",
      "dat3 = pd.read_sql(q3, engine)\n",
      "dat4 = pd.read_sql('SELECT * FROM supermarket_distances', engine)"
     ],
     "language": "python",
     "metadata": {},
     "outputs": [],
     "prompt_number": 34
    },
    {
     "cell_type": "markdown",
     "metadata": {},
     "source": [
      "This is a quite open question, in the original paper the authors claimed that there is a better indicator than lower prices that can measure customers' satisfaction with a product. Here we want to see whether there is a different behavior pattern for customer with few shop nearby against those has more shops nearby."
     ]
    },
    {
     "cell_type": "markdown",
     "metadata": {},
     "source": [
      "**Task break down**\n",
      "- Count the number of shops that are close to each customer\n",
      "- Group them into two group, compare shopping habit by total quantity and total spend."
     ]
    },
    {
     "cell_type": "code",
     "collapsed": false,
     "input": [
      "counts = dat4[dat4['distance']<2500].groupby('customer_id').count()"
     ],
     "language": "python",
     "metadata": {},
     "outputs": [],
     "prompt_number": 59
    },
    {
     "cell_type": "code",
     "collapsed": true,
     "input": [
      "counts = counts[['shop_id']]\n",
      "counts.columns = ['close_count']"
     ],
     "language": "python",
     "metadata": {},
     "outputs": [],
     "prompt_number": 62
    },
    {
     "cell_type": "code",
     "collapsed": true,
     "input": [
      "counts.head()"
     ],
     "language": "python",
     "metadata": {},
     "outputs": [
      {
       "html": [
        "<div style=\"max-height:1000px;max-width:1500px;overflow:auto;\">\n",
        "<table border=\"1\" class=\"dataframe\">\n",
        "  <thead>\n",
        "    <tr style=\"text-align: right;\">\n",
        "      <th></th>\n",
        "      <th>close_count</th>\n",
        "    </tr>\n",
        "    <tr>\n",
        "      <th>customer_id</th>\n",
        "      <th></th>\n",
        "    </tr>\n",
        "  </thead>\n",
        "  <tbody>\n",
        "    <tr>\n",
        "      <th>1</th>\n",
        "      <td> 2</td>\n",
        "    </tr>\n",
        "    <tr>\n",
        "      <th>2</th>\n",
        "      <td> 5</td>\n",
        "    </tr>\n",
        "    <tr>\n",
        "      <th>3</th>\n",
        "      <td> 4</td>\n",
        "    </tr>\n",
        "    <tr>\n",
        "      <th>4</th>\n",
        "      <td> 5</td>\n",
        "    </tr>\n",
        "    <tr>\n",
        "      <th>5</th>\n",
        "      <td> 4</td>\n",
        "    </tr>\n",
        "  </tbody>\n",
        "</table>\n",
        "</div>"
       ],
       "metadata": {},
       "output_type": "pyout",
       "prompt_number": 63,
       "text": [
        "             close_count\n",
        "customer_id             \n",
        "1                      2\n",
        "2                      5\n",
        "3                      4\n",
        "4                      5\n",
        "5                      4"
       ]
      }
     ],
     "prompt_number": 63
    },
    {
     "cell_type": "markdown",
     "metadata": {},
     "source": [
      "Now we need to use the counts, define having less than 2 shops within 2500m as having few shops. We can group the total spend into two groups, then compare the empirical distribution of the two groups of customer."
     ]
    },
    {
     "cell_type": "code",
     "collapsed": false,
     "input": [
      "dat.head()"
     ],
     "language": "python",
     "metadata": {},
     "outputs": [
      {
       "html": [
        "<div style=\"max-height:1000px;max-width:1500px;overflow:auto;\">\n",
        "<table border=\"1\" class=\"dataframe\">\n",
        "  <thead>\n",
        "    <tr style=\"text-align: right;\">\n",
        "      <th></th>\n",
        "      <th>customer_id</th>\n",
        "      <th>total_spend</th>\n",
        "    </tr>\n",
        "  </thead>\n",
        "  <tbody>\n",
        "    <tr>\n",
        "      <th>0</th>\n",
        "      <td> 1</td>\n",
        "      <td> 7551.701</td>\n",
        "    </tr>\n",
        "    <tr>\n",
        "      <th>1</th>\n",
        "      <td> 2</td>\n",
        "      <td> 7820.219</td>\n",
        "    </tr>\n",
        "    <tr>\n",
        "      <th>2</th>\n",
        "      <td> 3</td>\n",
        "      <td> 1788.613</td>\n",
        "    </tr>\n",
        "    <tr>\n",
        "      <th>3</th>\n",
        "      <td> 4</td>\n",
        "      <td> 1679.520</td>\n",
        "    </tr>\n",
        "    <tr>\n",
        "      <th>4</th>\n",
        "      <td> 5</td>\n",
        "      <td>   17.922</td>\n",
        "    </tr>\n",
        "  </tbody>\n",
        "</table>\n",
        "</div>"
       ],
       "metadata": {},
       "output_type": "pyout",
       "prompt_number": 47,
       "text": [
        "   customer_id  total_spend\n",
        "0            1     7551.701\n",
        "1            2     7820.219\n",
        "2            3     1788.613\n",
        "3            4     1679.520\n",
        "4            5       17.922"
       ]
      }
     ],
     "prompt_number": 47
    },
    {
     "cell_type": "code",
     "collapsed": false,
     "input": [
      "aa =  dat.merge(counts, left_on= 'customer_id', right_index= True)"
     ],
     "language": "python",
     "metadata": {},
     "outputs": [],
     "prompt_number": 68
    },
    {
     "cell_type": "code",
     "collapsed": false,
     "input": [
      "aa['total_spend'].groupby(aa['close_count'] < 2).plot(kind = 'kde')"
     ],
     "language": "python",
     "metadata": {},
     "outputs": [
      {
       "metadata": {},
       "output_type": "pyout",
       "prompt_number": 81,
       "text": [
        "close_count\n",
        "False          Axes(0.125,0.125;0.775x0.775)\n",
        "True           Axes(0.125,0.125;0.775x0.775)\n",
        "dtype: object"
       ]
      },
      {
       "metadata": {},
       "output_type": "display_data",
       "png": "[encoded data removed]",
       "text": [
        "<matplotlib.figure.Figure at 0x119059450>"
       ]
      }
     ],
     "prompt_number": 81
    },
    {
     "cell_type": "markdown",
     "metadata": {},
     "source": [
      "So we can see the the density for the two groups are not that different. But the people with more shop\n",
      "nearby seems to buy less product(have more mess close to zero. "
     ]
    },
    {
     "cell_type": "code",
     "collapsed": false,
     "input": [
      "aa.head()"
     ],
     "language": "python",
     "metadata": {},
     "outputs": [
      {
       "html": [
        "<div style=\"max-height:1000px;max-width:1500px;overflow:auto;\">\n",
        "<table border=\"1\" class=\"dataframe\">\n",
        "  <thead>\n",
        "    <tr style=\"text-align: right;\">\n",
        "      <th></th>\n",
        "      <th>customer_id</th>\n",
        "      <th>total_spend</th>\n",
        "      <th>close_count</th>\n",
        "    </tr>\n",
        "  </thead>\n",
        "  <tbody>\n",
        "    <tr>\n",
        "      <th>0</th>\n",
        "      <td> 1</td>\n",
        "      <td> 7551.701</td>\n",
        "      <td> 2</td>\n",
        "    </tr>\n",
        "    <tr>\n",
        "      <th>1</th>\n",
        "      <td> 2</td>\n",
        "      <td> 7820.219</td>\n",
        "      <td> 5</td>\n",
        "    </tr>\n",
        "    <tr>\n",
        "      <th>2</th>\n",
        "      <td> 3</td>\n",
        "      <td> 1788.613</td>\n",
        "      <td> 4</td>\n",
        "    </tr>\n",
        "    <tr>\n",
        "      <th>3</th>\n",
        "      <td> 4</td>\n",
        "      <td> 1679.520</td>\n",
        "      <td> 5</td>\n",
        "    </tr>\n",
        "    <tr>\n",
        "      <th>4</th>\n",
        "      <td> 5</td>\n",
        "      <td>   17.922</td>\n",
        "      <td> 4</td>\n",
        "    </tr>\n",
        "  </tbody>\n",
        "</table>\n",
        "</div>"
       ],
       "metadata": {},
       "output_type": "pyout",
       "prompt_number": 72,
       "text": [
        "   customer_id  total_spend  close_count\n",
        "0            1     7551.701            2\n",
        "1            2     7820.219            5\n",
        "2            3     1788.613            4\n",
        "3            4     1679.520            5\n",
        "4            5       17.922            4"
       ]
      }
     ],
     "prompt_number": 72
    }
   ],
   "metadata": {}
  }
 ]
}